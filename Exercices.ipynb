{
  "nbformat": 4,
  "nbformat_minor": 0,
  "metadata": {
    "colab": {
      "provenance": [],
      "collapsed_sections": [
        "YpKmrweOFn2u"
      ],
      "authorship_tag": "ABX9TyMASOZOBiLJ36WhZSwbpXBS",
      "include_colab_link": true
    },
    "kernelspec": {
      "name": "python3",
      "display_name": "Python 3"
    },
    "language_info": {
      "name": "python"
    }
  },
  "cells": [
    {
      "cell_type": "markdown",
      "metadata": {
        "id": "view-in-github",
        "colab_type": "text"
      },
      "source": [
        "<a href=\"https://colab.research.google.com/github/urapua/python_learning/blob/main/Exercices.ipynb\" target=\"_parent\"><img src=\"https://colab.research.google.com/assets/colab-badge.svg\" alt=\"Open In Colab\"/></a>"
      ]
    },
    {
      "cell_type": "markdown",
      "source": [
        "##Exercise 0"
      ],
      "metadata": {
        "id": "YpKmrweOFn2u"
      }
    },
    {
      "cell_type": "code",
      "execution_count": 3,
      "metadata": {
        "colab": {
          "base_uri": "https://localhost:8080/"
        },
        "id": "f9lsn1LSFfLO",
        "outputId": "804cea0d-08c0-4b19-f6f7-5c364a36d6d5"
      },
      "outputs": [
        {
          "output_type": "stream",
          "name": "stdout",
          "text": [
            "Python version\n",
            "3.9.16\n"
          ]
        }
      ],
      "source": [
        "#print the Python Version to the console\n",
        "import sys\n",
        "\n",
        "print(\"Python version\")\n",
        "print(sys.version.split()[0])"
      ]
    },
    {
      "cell_type": "markdown",
      "source": [
        "## Exercise 1"
      ],
      "metadata": {
        "id": "J434q907HR4T"
      }
    },
    {
      "cell_type": "code",
      "source": [
        "\"\"\"\n",
        "All natural numbers divisible by 5 or 7 less than 20 are: [0, 5, 7, 10, 14, 15]. \n",
        "The sum of these numbers is: 51. In this exercise, we treat zero as a natural number.\n",
        "\n",
        "Find the sum of all numbers that are divisible by 5 or 7 less than 100.\n",
        "\n",
        "Present the solution in the form of a function called calculate(). In response, call calculate() function and print the result to the console.\n",
        "\"\"\"\n",
        "\n",
        "def calculate():\n",
        "  sum = 0\n",
        "  i = 0\n",
        "  while i < 100:\n",
        "    if(i%5==0) or (i%7==0):\n",
        "      sum = sum + i\n",
        "      i = i +1\n",
        "    else:\n",
        "      i = i +1\n",
        "  print(sum) \n",
        "\n",
        "\n",
        "calculate()"
      ],
      "metadata": {
        "colab": {
          "base_uri": "https://localhost:8080/"
        },
        "outputId": "d441413d-dddf-4e57-cee1-b558a9bb4189",
        "id": "Y4cfbRU-NPK8"
      },
      "execution_count": 30,
      "outputs": [
        {
          "output_type": "stream",
          "name": "stdout",
          "text": [
            "1580\n"
          ]
        }
      ]
    },
    {
      "cell_type": "markdown",
      "source": [
        "## Exercise 2\n"
      ],
      "metadata": {
        "id": "0a3ROXGvTU3z"
      }
    },
    {
      "cell_type": "code",
      "source": [
        "\"\"\"\n",
        "Consider the Fibonacci sequence. It is a sequence of natural numbers defined recursively as follows:\n",
        "\n",
        "the first element of the sequence is 0\n",
        "the second element of the sequence is 1\n",
        "each next element of the sequence is the sum of the previous two elements\n",
        "\n",
        "\n",
        "\n",
        "The beginning of the Fibonacci sequence:\n",
        "\n",
        "\n",
        "\n",
        "0, 1, 1, 2, 3, 5, 8, 13, 21, 34, 55, ... \n",
        "\n",
        "\n",
        "Find the sum of all even elements of the Fibonacci sequence with values less than 1,000,000 (1 million).\n",
        "\n",
        "\n",
        "\n",
        "Present the solution in the form of a function called calculate(). In response, call calculate() function and print the result to the console.\n",
        "\"\"\"\n",
        "def calculate():\n",
        "  numbers = []\n",
        "  arr = [a for a in range(1)] \n",
        "  i = 2\n",
        "  for i in range(11):\n",
        "    x = numbers[i-1] + numbers[i-2]\n",
        "    numbers.append(x)\n",
        "    x = 0\n",
        "    print(\"value\"+str(numbers[i]))\n",
        "    print(\"\\n\")\n",
        "    i = i+1\n",
        "    \n",
        "\n",
        "  return sum(numbers)\n",
        "\n",
        "\n",
        "print(calculate())"
      ],
      "metadata": {
        "colab": {
          "base_uri": "https://localhost:8080/",
          "height": 321
        },
        "id": "ngbvPvNbUOzk",
        "outputId": "fc9bb2fc-b49e-48e0-9f48-3dc937d4ff17"
      },
      "execution_count": 33,
      "outputs": [
        {
          "output_type": "error",
          "ename": "IndexError",
          "evalue": "ignored",
          "traceback": [
            "\u001b[0;31m---------------------------------------------------------------------------\u001b[0m",
            "\u001b[0;31mIndexError\u001b[0m                                Traceback (most recent call last)",
            "\u001b[0;32m<ipython-input-33-6c1bfbf9b07a>\u001b[0m in \u001b[0;36m<module>\u001b[0;34m\u001b[0m\n\u001b[1;32m     37\u001b[0m \u001b[0;34m\u001b[0m\u001b[0m\n\u001b[1;32m     38\u001b[0m \u001b[0;34m\u001b[0m\u001b[0m\n\u001b[0;32m---> 39\u001b[0;31m \u001b[0mprint\u001b[0m\u001b[0;34m(\u001b[0m\u001b[0mcalculate\u001b[0m\u001b[0;34m(\u001b[0m\u001b[0;34m)\u001b[0m\u001b[0;34m)\u001b[0m\u001b[0;34m\u001b[0m\u001b[0;34m\u001b[0m\u001b[0m\n\u001b[0m",
            "\u001b[0;32m<ipython-input-33-6c1bfbf9b07a>\u001b[0m in \u001b[0;36mcalculate\u001b[0;34m()\u001b[0m\n\u001b[1;32m     26\u001b[0m   \u001b[0mi\u001b[0m \u001b[0;34m=\u001b[0m \u001b[0;36m2\u001b[0m\u001b[0;34m\u001b[0m\u001b[0;34m\u001b[0m\u001b[0m\n\u001b[1;32m     27\u001b[0m   \u001b[0;32mfor\u001b[0m \u001b[0mi\u001b[0m \u001b[0;32min\u001b[0m \u001b[0mrange\u001b[0m\u001b[0;34m(\u001b[0m\u001b[0;36m11\u001b[0m\u001b[0;34m)\u001b[0m\u001b[0;34m:\u001b[0m\u001b[0;34m\u001b[0m\u001b[0;34m\u001b[0m\u001b[0m\n\u001b[0;32m---> 28\u001b[0;31m     \u001b[0mx\u001b[0m \u001b[0;34m=\u001b[0m \u001b[0mnumbers\u001b[0m\u001b[0;34m[\u001b[0m\u001b[0mi\u001b[0m\u001b[0;34m-\u001b[0m\u001b[0;36m1\u001b[0m\u001b[0;34m]\u001b[0m \u001b[0;34m+\u001b[0m \u001b[0mnumbers\u001b[0m\u001b[0;34m[\u001b[0m\u001b[0mi\u001b[0m\u001b[0;34m-\u001b[0m\u001b[0;36m2\u001b[0m\u001b[0;34m]\u001b[0m\u001b[0;34m\u001b[0m\u001b[0;34m\u001b[0m\u001b[0m\n\u001b[0m\u001b[1;32m     29\u001b[0m     \u001b[0mnumbers\u001b[0m\u001b[0;34m.\u001b[0m\u001b[0mappend\u001b[0m\u001b[0;34m(\u001b[0m\u001b[0mx\u001b[0m\u001b[0;34m)\u001b[0m\u001b[0;34m\u001b[0m\u001b[0;34m\u001b[0m\u001b[0m\n\u001b[1;32m     30\u001b[0m     \u001b[0mx\u001b[0m \u001b[0;34m=\u001b[0m \u001b[0;36m0\u001b[0m\u001b[0;34m\u001b[0m\u001b[0;34m\u001b[0m\u001b[0m\n",
            "\u001b[0;31mIndexError\u001b[0m: list index out of range"
          ]
        }
      ]
    },
    {
      "cell_type": "code",
      "source": [],
      "metadata": {
        "id": "olAnl5WDYmH8"
      },
      "execution_count": null,
      "outputs": []
    }
  ]
}